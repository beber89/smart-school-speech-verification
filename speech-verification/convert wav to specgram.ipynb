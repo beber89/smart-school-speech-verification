{
 "cells": [
  {
   "cell_type": "code",
   "execution_count": 1,
   "metadata": {},
   "outputs": [],
   "source": [
    "import librosa\n",
    "import librosa.display\n",
    "import numpy as np\n",
    "import pandas as pd\n",
    "import matplotlib.pyplot as plt\n",
    "import itertools\n",
    "import gc\n",
    "import os\n",
    "import psutil"
   ]
  },
  {
   "cell_type": "code",
   "execution_count": 2,
   "metadata": {},
   "outputs": [],
   "source": [
    "filesurl = \"/home/jovyan/work/free-spoken-digit-dataset/recordings/\"\n",
    "filename = \"{}{}\".format( filesurl, \"9_yweweler_4.wav\")\n",
    "filename = \"{}{}\".format( filesurl, \"7_theo_11.wav\")"
   ]
  },
  {
   "cell_type": "markdown",
   "metadata": {},
   "source": [
    "## Plot wav audio - time and amplitude "
   ]
  },
  {
   "cell_type": "code",
   "execution_count": null,
   "metadata": {},
   "outputs": [],
   "source": [
    "x, sr = librosa.load(filename)\n",
    "plt.figure(figsize=(14, 5))\n",
    "librosa.display.waveplot(x, sr=sr)"
   ]
  },
  {
   "cell_type": "markdown",
   "metadata": {},
   "source": [
    "## Plot spectrogram audio - time, frequency and amplitude "
   ]
  },
  {
   "cell_type": "code",
   "execution_count": null,
   "metadata": {},
   "outputs": [],
   "source": [
    "X = librosa.stft(x, win_length=256, hop_length=16)\n",
    "Xdb = librosa.amplitude_to_db(abs(X))\n",
    "plt.figure(figsize=(14, 5))\n",
    "librosa.display.specshow(Xdb, sr=sr, x_axis='time', y_axis='hz')\n",
    "plt.colorbar()"
   ]
  },
  {
   "cell_type": "markdown",
   "metadata": {},
   "source": [
    "### Plot spectrogram audio - Y frequency axis as log scale"
   ]
  },
  {
   "cell_type": "code",
   "execution_count": null,
   "metadata": {},
   "outputs": [],
   "source": [
    "plt.figure(figsize=(14, 5))\n",
    "librosa.display.specshow(Xdb[:800], sr=sr, x_axis='time', y_axis='log')\n",
    "plt.colorbar()"
   ]
  },
  {
   "cell_type": "code",
   "execution_count": null,
   "metadata": {},
   "outputs": [],
   "source": [
    "Xdb_=np.expand_dims(Xdb[:800, :513], axis=2)\n",
    "np.tile(Xdb_, (1,1,3))[0:2,0:2,:]"
   ]
  },
  {
   "cell_type": "markdown",
   "metadata": {},
   "source": [
    "## Create tensor of audio recordings"
   ]
  },
  {
   "cell_type": "markdown",
   "metadata": {},
   "source": [
    "### for all users saying \"seven\" 50 samples each"
   ]
  },
  {
   "cell_type": "code",
   "execution_count": 3,
   "metadata": {},
   "outputs": [],
   "source": [
    "users = [\"jackson\", \"nicolas\", \"theo\", \"yweweler\"]\n",
    "# dictionary of {name : [files of that name]}\n",
    "filenames = dict(list(map(lambda name:\\\n",
    "         list((name, list(map(lambda x: \"7_{}_{}.wav\".format(name, x), \\\n",
    "             range(50))))), users)))"
   ]
  },
  {
   "cell_type": "code",
   "execution_count": 4,
   "metadata": {},
   "outputs": [],
   "source": [
    "def file_to_specgram(filename):\n",
    "    x, sr = librosa.load(filesurl + filename)\n",
    "    X = librosa.stft(x, win_length=256, hop_length=16)\n",
    "    Xdb = librosa.amplitude_to_db(abs(X))\n",
    "    return Xdb, sr\n",
    "\n",
    "sr, _ = file_to_specgram(filenames[\"theo\"][0])\n"
   ]
  },
  {
   "cell_type": "code",
   "execution_count": 5,
   "metadata": {},
   "outputs": [],
   "source": [
    "# compute jacjson_specgrams but this time with padding \n",
    "mxT = 513\n",
    "def file_to_fixed_size_specgram(filename):\n",
    "    Xdb, sr = file_to_specgram(filename)\n",
    "    Xdb = np.pad(Xdb, ((0, 0), (0, mxT-Xdb.shape[1])), \"constant\")\\\n",
    "    if Xdb.shape[1] <= mxT else Xdb[:, 0:mxT]\n",
    "    return Xdb\n",
    "\n",
    "jackson_specgrams = np.tile(np.expand_dims( np.transpose(np.array(list(map(file_to_fixed_size_specgram, \\\n",
    "                        filenames[\"jackson\"]))),\\\n",
    "                                (0,2,1))[:,:,:800], axis=3),\\\n",
    "                            (1,1,1,3))\n",
    "nicolas_specgrams = np.tile(np.expand_dims( np.transpose(np.array(list(map(file_to_fixed_size_specgram, \\\n",
    "                        filenames[\"nicolas\"]))),\\\n",
    "                                (0,2,1))[:,:,:800], axis=3),\\\n",
    "                            (1,1,1,3))\n",
    "theo_specgrams = np.tile(np.expand_dims( np.transpose(np.array(list(map(file_to_fixed_size_specgram, \\\n",
    "                        filenames[\"theo\"]))),\\\n",
    "                                (0,2,1))[:,:,:800], axis=3),\\\n",
    "                            (1,1,1,3))\n",
    "yweweler_specgrams = np.tile(np.expand_dims(np.transpose(np.array(list(map(file_to_fixed_size_specgram, \\\n",
    "                        filenames[\"yweweler\"]))),\\\n",
    "                                (0,2,1))[:,:,:800], axis=3),\\\n",
    "                            (1,1,1,3))"
   ]
  },
  {
   "cell_type": "code",
   "execution_count": null,
   "metadata": {
    "scrolled": true
   },
   "outputs": [],
   "source": [
    "plt.figure(figsize=(14, 5))\n",
    "librosa.display.specshow(theo_specgrams[11,:,:,1].T, sr=sr, x_axis='time', y_axis='log')\n",
    "plt.colorbar()"
   ]
  },
  {
   "cell_type": "markdown",
   "metadata": {},
   "source": [
    "## Transfer learning"
   ]
  },
  {
   "cell_type": "markdown",
   "metadata": {},
   "source": [
    "### Load Keras weights"
   ]
  },
  {
   "cell_type": "code",
   "execution_count": 6,
   "metadata": {},
   "outputs": [
    {
     "name": "stderr",
     "output_type": "stream",
     "text": [
      "Using TensorFlow backend.\n",
      "/opt/conda/lib/python3.7/site-packages/tensorflow/python/framework/dtypes.py:526: FutureWarning: Passing (type, 1) or '1type' as a synonym of type is deprecated; in a future version of numpy, it will be understood as (type, (1,)) / '(1,)type'.\n",
      "  _np_qint8 = np.dtype([(\"qint8\", np.int8, 1)])\n",
      "/opt/conda/lib/python3.7/site-packages/tensorflow/python/framework/dtypes.py:527: FutureWarning: Passing (type, 1) or '1type' as a synonym of type is deprecated; in a future version of numpy, it will be understood as (type, (1,)) / '(1,)type'.\n",
      "  _np_quint8 = np.dtype([(\"quint8\", np.uint8, 1)])\n",
      "/opt/conda/lib/python3.7/site-packages/tensorflow/python/framework/dtypes.py:528: FutureWarning: Passing (type, 1) or '1type' as a synonym of type is deprecated; in a future version of numpy, it will be understood as (type, (1,)) / '(1,)type'.\n",
      "  _np_qint16 = np.dtype([(\"qint16\", np.int16, 1)])\n",
      "/opt/conda/lib/python3.7/site-packages/tensorflow/python/framework/dtypes.py:529: FutureWarning: Passing (type, 1) or '1type' as a synonym of type is deprecated; in a future version of numpy, it will be understood as (type, (1,)) / '(1,)type'.\n",
      "  _np_quint16 = np.dtype([(\"quint16\", np.uint16, 1)])\n",
      "/opt/conda/lib/python3.7/site-packages/tensorflow/python/framework/dtypes.py:530: FutureWarning: Passing (type, 1) or '1type' as a synonym of type is deprecated; in a future version of numpy, it will be understood as (type, (1,)) / '(1,)type'.\n",
      "  _np_qint32 = np.dtype([(\"qint32\", np.int32, 1)])\n",
      "/opt/conda/lib/python3.7/site-packages/tensorflow/python/framework/dtypes.py:535: FutureWarning: Passing (type, 1) or '1type' as a synonym of type is deprecated; in a future version of numpy, it will be understood as (type, (1,)) / '(1,)type'.\n",
      "  np_resource = np.dtype([(\"resource\", np.ubyte, 1)])\n"
     ]
    }
   ],
   "source": [
    "import keras\n",
    "from keras.layers import Conv2D, MaxPooling2D\n",
    "from keras.layers import Dense, Dropout, Flatten\n",
    "from keras.models import Sequential\n",
    "from keras.layers import Dense\n",
    "from keras.wrappers.scikit_learn import KerasClassifier\n",
    "from keras.utils import np_utils\n",
    "from sklearn.model_selection import cross_val_score\n",
    "from sklearn.model_selection import KFold\n",
    "from sklearn.preprocessing import LabelEncoder\n",
    "from sklearn.pipeline import Pipeline\n",
    "from keras import optimizers\n",
    "from keras.layers.advanced_activations import ELU, PReLU, LeakyReLU\n",
    "from keras.layers import Dense, Dropout, Activation, Flatten"
   ]
  },
  {
   "cell_type": "code",
   "execution_count": 7,
   "metadata": {},
   "outputs": [
    {
     "name": "stdout",
     "output_type": "stream",
     "text": [
      "WARNING:tensorflow:From /opt/conda/lib/python3.7/site-packages/tensorflow/python/framework/op_def_library.py:263: colocate_with (from tensorflow.python.framework.ops) is deprecated and will be removed in a future version.\n",
      "Instructions for updating:\n",
      "Colocations handled automatically by placer.\n",
      "WARNING:tensorflow:From /opt/conda/lib/python3.7/site-packages/keras/backend/tensorflow_backend.py:3733: calling dropout (from tensorflow.python.ops.nn_ops) with keep_prob is deprecated and will be removed in a future version.\n",
      "Instructions for updating:\n",
      "Please use `rate` instead of `keep_prob`. Rate should be set to `rate = 1 - keep_prob`.\n",
      "Model: \"sequential_1\"\n",
      "_________________________________________________________________\n",
      "Layer (type)                 Output Shape              Param #   \n",
      "=================================================================\n",
      "conv2d_1 (Conv2D)            (None, 513, 800, 8)       224       \n",
      "_________________________________________________________________\n",
      "activation_1 (Activation)    (None, 513, 800, 8)       0         \n",
      "_________________________________________________________________\n",
      "conv2d_2 (Conv2D)            (None, 511, 798, 8)       584       \n",
      "_________________________________________________________________\n",
      "activation_2 (Activation)    (None, 511, 798, 8)       0         \n",
      "_________________________________________________________________\n",
      "max_pooling2d_1 (MaxPooling2 (None, 255, 399, 8)       0         \n",
      "_________________________________________________________________\n",
      "dropout_1 (Dropout)          (None, 255, 399, 8)       0         \n",
      "_________________________________________________________________\n",
      "conv2d_3 (Conv2D)            (None, 255, 399, 16)      1168      \n",
      "_________________________________________________________________\n",
      "activation_3 (Activation)    (None, 255, 399, 16)      0         \n",
      "_________________________________________________________________\n",
      "conv2d_4 (Conv2D)            (None, 253, 397, 16)      2320      \n",
      "_________________________________________________________________\n",
      "activation_4 (Activation)    (None, 253, 397, 16)      0         \n",
      "_________________________________________________________________\n",
      "max_pooling2d_2 (MaxPooling2 (None, 126, 198, 16)      0         \n",
      "_________________________________________________________________\n",
      "flatten_1 (Flatten)          (None, 399168)            0         \n",
      "_________________________________________________________________\n",
      "activation_5 (Activation)    (None, 399168)            0         \n",
      "_________________________________________________________________\n",
      "dense_1 (Dense)              (None, 57)                22752633  \n",
      "_________________________________________________________________\n",
      "activation_6 (Activation)    (None, 57)                0         \n",
      "=================================================================\n",
      "Total params: 22,756,929\n",
      "Trainable params: 22,756,929\n",
      "Non-trainable params: 0\n",
      "_________________________________________________________________\n"
     ]
    }
   ],
   "source": [
    "model = Sequential()\n",
    "model.add(Conv2D(8, (3, 3), padding='same',\n",
    "                 input_shape=(513, 800, 3)))\n",
    "model.add(Activation('relu'))\n",
    "model.add(Conv2D(8, (3, 3)))\n",
    "model.add(Activation('relu'))\n",
    "model.add(MaxPooling2D(pool_size=(2, 2)))\n",
    "model.add(Dropout(0.25))\n",
    "\n",
    "model.add(Conv2D(16, (3, 3), padding='same'))\n",
    "model.add(Activation('relu'))\n",
    "model.add(Conv2D(16, (3, 3)))\n",
    "model.add(Activation('relu'))\n",
    "model.add(MaxPooling2D(pool_size=(2, 2)))\n",
    "#model.add(Dropout(0.25))\n",
    "\n",
    "model.add(Flatten())\n",
    "#model.add(Dense(10))\n",
    "model.add(Activation('relu'))\n",
    "#model.add(Dropout(0.5))\n",
    "model.add(Dense(57))\n",
    "model.add(Activation('softmax'))\n",
    "\n",
    "model.summary()\n",
    "\n",
    "# initiate RMSprop optimizer\n",
    "opt = keras.optimizers.rmsprop(lr=0.0001, decay=1e-6)\n",
    "\n",
    "# Let's train the model using RMSprop\n",
    "model.compile(loss='categorical_crossentropy',\n",
    "              optimizer=opt,\n",
    "              metrics=['accuracy'])"
   ]
  },
  {
   "cell_type": "code",
   "execution_count": 8,
   "metadata": {},
   "outputs": [],
   "source": [
    "url_proj = \"/home/jovyan/work/VCS/voice-classification/\"\n",
    "model.load_weights(url_proj+'neural_networks/my_model_weights.h5')"
   ]
  },
  {
   "cell_type": "code",
   "execution_count": 9,
   "metadata": {},
   "outputs": [],
   "source": [
    "#from keras.applications.vgg19 import preprocess_input\n",
    "from keras.models import Model\n",
    "import numpy as np\n",
    "model2 = Model(inputs=model.input, outputs=model.get_layer('flatten_1').output)"
   ]
  },
  {
   "cell_type": "markdown",
   "metadata": {},
   "source": [
    "### Create training and testing dataset"
   ]
  },
  {
   "cell_type": "code",
   "execution_count": 10,
   "metadata": {},
   "outputs": [],
   "source": [
    "def permutate_dataset(*args):\n",
    "#     s = len(args[0])\n",
    "    indices = list(itertools.product(range(args[0].shape[0]), range(args[1].shape[0])))[0:100]\n",
    "    return np.array(list(map(lambda idx: np.append(args[0][idx[0]], args[1][idx[1]], axis=0),\\\n",
    "       indices)))"
   ]
  },
  {
   "cell_type": "code",
   "execution_count": 21,
   "metadata": {},
   "outputs": [],
   "source": [
    "process = psutil.Process(os.getpid())\n",
    "\n",
    "def apply_model(model, data, step=10):\n",
    "    for i in range(int(len(data)/step)):\n",
    "        tmp = model2.predict(data[(step*i):(step*(i+1))])\n",
    "        x = tmp if(i==0) else np.append(x, tmp, axis=0)\n",
    "        del tmp\n",
    "    return x\n",
    "        \n",
    "def stage1_dataset_y1(*args, testing=False):\n",
    "    k = len(args)\n",
    "    # dataset for same voice \n",
    "    for i in range(k):\n",
    "        x = apply_model(model2, args[i]) \n",
    "        xx = permutate_dataset(x, x[1:])\n",
    "        xs = xx if(i==0) else np.append(xs, xx, axis=0)\n",
    "        ys = np.ones(xx.shape[0]) if(i==0) else np.append(ys, np.ones(xx.shape[0]))\n",
    "        del x, xx\n",
    "        gc.collect()\n",
    "        print(\"first loop with i={}, memory usage {}%\"\\\n",
    "              .format(i, process.memory_info().rss/(4042484*1024)*100))\n",
    "    # dataset for different voices\n",
    "\n",
    "    for i in range(k-1):\n",
    "        for j in range(i+1, k):\n",
    "            x = apply_model(model2, args[i], step=2)\n",
    "            z = apply_model(model2, args[j], step=2)\n",
    "            xz = permutate_dataset(x, z)\n",
    "            xs = np.append(xs, xz, axis=0)\n",
    "            ys = np.append(ys, np.ones(xz.shape[0]))\n",
    "            del x, z, xz\n",
    "            gc.collect()\n",
    "            print(\"second loop with (i,j)=({},{}) , memory usage {}%\"\\\n",
    "              .format(i, j, process.memory_info().rss/(4042484*1024)*100))\n",
    "    \n",
    "    return xs, ys"
   ]
  },
  {
   "cell_type": "code",
   "execution_count": 14,
   "metadata": {},
   "outputs": [
    {
     "data": {
      "text/plain": [
       "3.84"
      ]
     },
     "execution_count": 14,
     "metadata": {},
     "output_type": "execute_result"
    }
   ],
   "source": [
    "# test the stage1_dataset (without applying model) ::: \n",
    "4*10**5*600*2*8/10**9"
   ]
  },
  {
   "cell_type": "code",
   "execution_count": 22,
   "metadata": {},
   "outputs": [
    {
     "name": "stdout",
     "output_type": "stream",
     "text": [
      "first loop with i=0, memory usage 29.50611554677767%\n",
      "first loop with i=1, memory usage 37.30330163335216%\n",
      "first loop with i=2, memory usage 45.01529257753401%\n",
      "second loop with (i,j)=(0,1) , memory usage 49.723981591516505%\n",
      "second loop with (i,j)=(0,2) , memory usage 57.43607148476036%\n",
      "second loop with (i,j)=(1,2) , memory usage 65.02684982797705%\n"
     ]
    }
   ],
   "source": [
    "xs, ys=stage1_dataset_y1(jackson_specgrams[0:20], nicolas_specgrams[:20], theo_specgrams[0:20])\n",
    "# xs2, ys2=stage1_dataset_y1(theo_specgrams[0:20], yweweler_specgrams[:20])\n"
   ]
  },
  {
   "cell_type": "code",
   "execution_count": 25,
   "metadata": {},
   "outputs": [
    {
     "data": {
      "text/plain": [
       "(600, 798336)"
      ]
     },
     "execution_count": 25,
     "metadata": {},
     "output_type": "execute_result"
    }
   ],
   "source": [
    "ys.shape\n",
    "xs.shape"
   ]
  },
  {
   "cell_type": "code",
   "execution_count": 24,
   "metadata": {},
   "outputs": [],
   "source": [
    "xs.shape\n",
    "del jackson_specgrams, nicolas_specgrams, theo_specgrams"
   ]
  },
  {
   "cell_type": "code",
   "execution_count": null,
   "metadata": {},
   "outputs": [],
   "source": [
    "# x = np.append(jackson_specgrams, nicolas_specgrams, axis=0)\n",
    "# del jackson_specgrams, nicolas_specgrams\n",
    "# x = np.append(x, theo_specgrams, axis=0)\n",
    "# del theo_specgrams\n",
    "# x = np.append(x, yweweler_specgrams, axis=0)\n",
    "# del yweweler_specgrams\n",
    "# y = np.append(np.ones(50), np.zeros(150))"
   ]
  },
  {
   "cell_type": "code",
   "execution_count": null,
   "metadata": {},
   "outputs": [],
   "source": [
    "import random\n",
    "test_indices = random.sample(range(len(x)), 10)\n",
    "train_indices = []\n",
    "for i in range(len(x)):\n",
    "    if i not in test_indices:\n",
    "        train_indices.append(i)\n",
    "\n",
    "x_new_train = []\n",
    "y_new_train = []\n",
    "x_test = []\n",
    "y_test = []\n",
    "\n",
    "for i in test_indices:\n",
    "    x_test.append(x[i])\n",
    "    y_test.append(y[i])\n",
    "\n",
    "\n",
    "for i in train_indices:\n",
    "    x_new_train.append(x[i])\n",
    "    y_new_train.append(y[i])\n",
    "del x, y\n",
    "x_new_train = np.array(x_new_train)\n",
    "y_new_train = np.array(y_new_train)\n",
    "x_test = np.array(x_test)\n",
    "y_test = np.array(y_test)"
   ]
  },
  {
   "cell_type": "markdown",
   "metadata": {},
   "source": [
    "### Create dataset for SVM based on NN features"
   ]
  },
  {
   "cell_type": "code",
   "execution_count": null,
   "metadata": {},
   "outputs": [],
   "source": [
    "svm_x2_train = []\n",
    "svm_y2_train = []\n",
    "for i in range(len(x_new_train)):\n",
    "    x_1 = np.expand_dims(x_new_train[i], axis=0)\n",
    "    #x_1 = preprocess_input(x_1)\n",
    "    svm_x2_train.append(model2.predict(x_1))\n",
    "    svm_y2_train.append(y_new_train[i])\n",
    "del x_new_train, y_new_train"
   ]
  },
  {
   "cell_type": "code",
   "execution_count": null,
   "metadata": {},
   "outputs": [],
   "source": [
    "svm_x2_test = []\n",
    "svm_y2_test = []\n",
    "for i in range(len(x_test)):\n",
    "    x_1 = np.expand_dims(x_test[i], axis=0)\n",
    "    #x_1 = preprocess_input(x_1)\n",
    "    svm_x2_test.append(model2.predict(x_1))\n",
    "    svm_y2_test.append(y_test[i])\n",
    "del x_test, y_test"
   ]
  },
  {
   "cell_type": "code",
   "execution_count": null,
   "metadata": {},
   "outputs": [],
   "source": [
    "# reshape svm features and labels\n",
    "svm_x2_train = np.array(svm_x2_train)\n",
    "svm_x2_train=svm_x2_train.reshape((svm_x2_train.shape[0], -1))\n",
    "svm_y2_train = np.array(svm_y2_train)\n",
    "svm_y2_train=svm_y2_train.reshape((svm_y2_train.shape[0], -1))\n",
    "\n",
    "svm_x2_test = np.array(svm_x2_test)\n",
    "svm_x2_test=svm_x2_test.reshape((svm_x2_test.shape[0], -1))\n",
    "svm_y2_test = np.array(svm_y2_test)\n",
    "svm_y2_test=svm_y2_test.reshape((svm_y2_test.shape[0], -1))"
   ]
  },
  {
   "cell_type": "code",
   "execution_count": null,
   "metadata": {},
   "outputs": [],
   "source": [
    "from sklearn import svm\n",
    "clf = svm.SVC(kernel='rbf', class_weight='balanced')\n",
    "clf.fit(svm_x2_train, svm_y2_train)"
   ]
  },
  {
   "cell_type": "code",
   "execution_count": null,
   "metadata": {},
   "outputs": [],
   "source": [
    "from sklearn.metrics import accuracy_score\n",
    "accuracy_score(svm_y2_test, clf.predict(svm_x2_test))"
   ]
  },
  {
   "cell_type": "markdown",
   "metadata": {},
   "source": [
    "### Next\n",
    "- Consider to make test classifications uniformly distributed 0.5|0.5\n",
    " - in case I do not change modeling approach\n",
    "- permutations of same user recordings and different user recordings \n",
    " - that is another approach"
   ]
  },
  {
   "cell_type": "code",
   "execution_count": null,
   "metadata": {},
   "outputs": [],
   "source": []
  }
 ],
 "metadata": {
  "kernelspec": {
   "display_name": "Python 3",
   "language": "python",
   "name": "python3"
  },
  "language_info": {
   "codemirror_mode": {
    "name": "ipython",
    "version": 3
   },
   "file_extension": ".py",
   "mimetype": "text/x-python",
   "name": "python",
   "nbconvert_exporter": "python",
   "pygments_lexer": "ipython3",
   "version": "3.7.3"
  },
  "widgets": {
   "state": {},
   "version": "1.1.2"
  }
 },
 "nbformat": 4,
 "nbformat_minor": 2
}
